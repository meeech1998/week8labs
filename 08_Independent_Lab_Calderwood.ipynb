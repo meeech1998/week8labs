{
 "cells": [
  {
   "cell_type": "markdown",
   "id": "98abbc08-5c80-4914-9c3e-9f3cb433e653",
   "metadata": {},
   "source": [
    "# Independent Lab: Advanced Data Manipulation\n",
    "Michelle Calderwood | BGEN 632 – Spring 2025\n",
    "\n",
    "This notebook demonstrates advanced data wrangling techniques using pandas and piping notation. We will rename columns, filter/select with regex, and use chaining to clean and explore data efficiently."
   ]
  },
  {
   "cell_type": "markdown",
   "id": "3602517d-3a3d-4de4-8100-f2b0bb77db12",
   "metadata": {},
   "source": [
    "### Import libraries"
   ]
  },
  {
   "cell_type": "code",
   "execution_count": 104,
   "id": "baf15138-8c97-4c8d-b488-699b031438f0",
   "metadata": {},
   "outputs": [
    {
     "name": "stdout",
     "output_type": "stream",
     "text": [
      "/Users/michellecalderwood/Documents/GitHub/week8labs/data\n",
      "<class 'pandas.core.frame.DataFrame'>\n",
      "RangeIndex: 473 entries, 0 to 472\n",
      "Data columns (total 16 columns):\n",
      " #   Column         Non-Null Count  Dtype  \n",
      "---  ------         --------------  -----  \n",
      " 0   project_id     473 non-null    int64  \n",
      " 1   domain         473 non-null    object \n",
      " 2   language       473 non-null    object \n",
      " 3   windows        473 non-null    int64  \n",
      " 4   window_idx     473 non-null    int64  \n",
      " 5   num_team       473 non-null    int64  \n",
      " 6   num_commits    473 non-null    int64  \n",
      " 7   blau_gender    473 non-null    float64\n",
      " 8   Gini_gh_ten    473 non-null    float64\n",
      " 9   user_id        473 non-null    int64  \n",
      " 10  Core1          473 non-null    int64  \n",
      " 11  commits        473 non-null    int64  \n",
      " 12  propCommits    473 non-null    float64\n",
      " 13  gender         449 non-null    object \n",
      " 14  github_tenure  473 non-null    int64  \n",
      " 15  leavesNextQ    473 non-null    int64  \n",
      "dtypes: float64(3), int64(10), object(3)\n",
      "memory usage: 59.3+ KB\n"
     ]
    }
   ],
   "source": [
    "import os\n",
    "import pandas as pd\n",
    "\n",
    "# Set working directory (if needed)\n",
    "os.chdir(\"/Users/michellecalderwood/Documents/GitHub/week8labs/data\")\n",
    "print(os.getcwd())\n",
    "\n",
    "# Load dataset\n",
    "turnover_df = pd.read_csv(\"gh_turnover_four_projects.csv\")\n",
    "turnover_df.info()"
   ]
  },
  {
   "cell_type": "markdown",
   "id": "4f7e7d89-3dd9-4edc-9bd8-dd560c5fefb3",
   "metadata": {},
   "source": [
    "### Rename Columns\n",
    "Rename columns to more descriptive names to enhance clarity and consistency."
   ]
  },
  {
   "cell_type": "code",
   "execution_count": 106,
   "id": "250b82d1-a540-4975-a855-d1692e84d3a8",
   "metadata": {},
   "outputs": [
    {
     "data": {
      "text/plain": [
       "Index(['project_id', 'project_domain', 'project_language', 'project_age',\n",
       "       'quarter', 'team_size', 'project_commits', 'gender_blau',\n",
       "       'gh_tenure_gini', 'user_id', 'core_dev', 'user_commits',\n",
       "       'commit_proportion', 'gender', 'gh_tenure', 'leaves_next_q'],\n",
       "      dtype='object')"
      ]
     },
     "execution_count": 106,
     "metadata": {},
     "output_type": "execute_result"
    }
   ],
   "source": [
    "turnover_df = turnover_df.rename(columns={\n",
    "    'domain': 'project_domain',\n",
    "    'language': 'project_language',\n",
    "    'windows': 'project_age',\n",
    "    'window_idx': 'quarter',\n",
    "    'num_team': 'team_size',\n",
    "    'num_commits': 'project_commits',\n",
    "    'blau_gender': 'gender_blau',\n",
    "    'Gini_gh_ten': 'gh_tenure_gini',\n",
    "    'Core1': 'core_dev',\n",
    "    'commits': 'user_commits',\n",
    "    'propCommits': 'commit_proportion',\n",
    "    'github_tenure': 'gh_tenure',\n",
    "    'leavesNextQ': 'leaves_next_q'\n",
    "})\n",
    "\n",
    "turnover_df.columns"
   ]
  },
  {
   "cell_type": "markdown",
   "id": "84cee0cc-64de-431d-b4de-c0c5c8f4df15",
   "metadata": {},
   "source": [
    "### Show Mean and Median of user_commits using pandas piping"
   ]
  },
  {
   "cell_type": "code",
   "execution_count": 112,
   "id": "28bc55b4-508a-4b23-b675-bfdc2483988b",
   "metadata": {},
   "outputs": [
    {
     "data": {
      "text/html": [
       "<div>\n",
       "<style scoped>\n",
       "    .dataframe tbody tr th:only-of-type {\n",
       "        vertical-align: middle;\n",
       "    }\n",
       "\n",
       "    .dataframe tbody tr th {\n",
       "        vertical-align: top;\n",
       "    }\n",
       "\n",
       "    .dataframe thead th {\n",
       "        text-align: right;\n",
       "    }\n",
       "</style>\n",
       "<table border=\"1\" class=\"dataframe\">\n",
       "  <thead>\n",
       "    <tr style=\"text-align: right;\">\n",
       "      <th></th>\n",
       "      <th>user_commits</th>\n",
       "    </tr>\n",
       "  </thead>\n",
       "  <tbody>\n",
       "    <tr>\n",
       "      <th>mean</th>\n",
       "      <td>339.365751</td>\n",
       "    </tr>\n",
       "    <tr>\n",
       "      <th>median</th>\n",
       "      <td>18.000000</td>\n",
       "    </tr>\n",
       "  </tbody>\n",
       "</table>\n",
       "</div>"
      ],
      "text/plain": [
       "        user_commits\n",
       "mean      339.365751\n",
       "median     18.000000"
      ]
     },
     "execution_count": 112,
     "metadata": {},
     "output_type": "execute_result"
    }
   ],
   "source": [
    "(\n",
    " turnover_df\n",
    " .agg({\"user_commits\": [\"mean\", \"median\"]})\n",
    ")"
   ]
  },
  {
   "cell_type": "markdown",
   "id": "d4e05ad5-e64b-431e-a366-47408986675f",
   "metadata": {},
   "source": [
    "### Select and Filter Combined (mimics tidyverse)\n",
    "Select columns with p or g, filter project_commits > 9000"
   ]
  },
  {
   "cell_type": "code",
   "execution_count": 118,
   "id": "836e548f-fae2-400c-b990-876a2c77a85b",
   "metadata": {},
   "outputs": [
    {
     "data": {
      "text/html": [
       "<div>\n",
       "<style scoped>\n",
       "    .dataframe tbody tr th:only-of-type {\n",
       "        vertical-align: middle;\n",
       "    }\n",
       "\n",
       "    .dataframe tbody tr th {\n",
       "        vertical-align: top;\n",
       "    }\n",
       "\n",
       "    .dataframe thead th {\n",
       "        text-align: right;\n",
       "    }\n",
       "</style>\n",
       "<table border=\"1\" class=\"dataframe\">\n",
       "  <thead>\n",
       "    <tr style=\"text-align: right;\">\n",
       "      <th></th>\n",
       "      <th>project_id</th>\n",
       "      <th>project_domain</th>\n",
       "      <th>project_language</th>\n",
       "      <th>project_age</th>\n",
       "      <th>project_commits</th>\n",
       "      <th>gender_blau</th>\n",
       "      <th>gh_tenure_gini</th>\n",
       "      <th>gender</th>\n",
       "      <th>gh_tenure</th>\n",
       "    </tr>\n",
       "  </thead>\n",
       "  <tbody>\n",
       "    <tr>\n",
       "      <th>0</th>\n",
       "      <td>1101</td>\n",
       "      <td>OTHER</td>\n",
       "      <td>Python</td>\n",
       "      <td>23</td>\n",
       "      <td>22688</td>\n",
       "      <td>0.0</td>\n",
       "      <td>0.422259</td>\n",
       "      <td>male</td>\n",
       "      <td>426</td>\n",
       "    </tr>\n",
       "    <tr>\n",
       "      <th>1</th>\n",
       "      <td>1101</td>\n",
       "      <td>OTHER</td>\n",
       "      <td>Python</td>\n",
       "      <td>23</td>\n",
       "      <td>22688</td>\n",
       "      <td>0.0</td>\n",
       "      <td>0.422259</td>\n",
       "      <td>male</td>\n",
       "      <td>46</td>\n",
       "    </tr>\n",
       "    <tr>\n",
       "      <th>2</th>\n",
       "      <td>1101</td>\n",
       "      <td>OTHER</td>\n",
       "      <td>Python</td>\n",
       "      <td>23</td>\n",
       "      <td>22688</td>\n",
       "      <td>0.0</td>\n",
       "      <td>0.422259</td>\n",
       "      <td>male</td>\n",
       "      <td>941</td>\n",
       "    </tr>\n",
       "    <tr>\n",
       "      <th>3</th>\n",
       "      <td>1101</td>\n",
       "      <td>OTHER</td>\n",
       "      <td>Python</td>\n",
       "      <td>23</td>\n",
       "      <td>22688</td>\n",
       "      <td>0.0</td>\n",
       "      <td>0.422259</td>\n",
       "      <td>male</td>\n",
       "      <td>1870</td>\n",
       "    </tr>\n",
       "    <tr>\n",
       "      <th>4</th>\n",
       "      <td>1101</td>\n",
       "      <td>OTHER</td>\n",
       "      <td>Python</td>\n",
       "      <td>23</td>\n",
       "      <td>22688</td>\n",
       "      <td>0.0</td>\n",
       "      <td>0.422259</td>\n",
       "      <td>male</td>\n",
       "      <td>781</td>\n",
       "    </tr>\n",
       "  </tbody>\n",
       "</table>\n",
       "</div>"
      ],
      "text/plain": [
       "   project_id project_domain project_language  project_age  project_commits  \\\n",
       "0        1101          OTHER           Python           23            22688   \n",
       "1        1101          OTHER           Python           23            22688   \n",
       "2        1101          OTHER           Python           23            22688   \n",
       "3        1101          OTHER           Python           23            22688   \n",
       "4        1101          OTHER           Python           23            22688   \n",
       "\n",
       "   gender_blau  gh_tenure_gini gender  gh_tenure  \n",
       "0          0.0        0.422259   male        426  \n",
       "1          0.0        0.422259   male         46  \n",
       "2          0.0        0.422259   male        941  \n",
       "3          0.0        0.422259   male       1870  \n",
       "4          0.0        0.422259   male        781  "
      ]
     },
     "execution_count": 118,
     "metadata": {},
     "output_type": "execute_result"
    }
   ],
   "source": [
    "turnover_newer = (\n",
    " turnover_df\n",
    " .filter(regex='(^p)|(g)')\n",
    " .query(\"project_commits > 9000\")\n",
    ")\n",
    "\n",
    "turnover_newer.head()"
   ]
  },
  {
   "cell_type": "markdown",
   "id": "5fd6c8ca-2e63-4d88-8b45-5ac476228415",
   "metadata": {},
   "source": [
    "### Switch to Original DataFrame\n",
    "Filter columns ending in 'e' or containing 'q', then gh_tenure >= 1991"
   ]
  },
  {
   "cell_type": "code",
   "execution_count": 120,
   "id": "15553f47-e0e3-426b-8ac9-278736c9375c",
   "metadata": {},
   "outputs": [
    {
     "data": {
      "text/html": [
       "<div>\n",
       "<style scoped>\n",
       "    .dataframe tbody tr th:only-of-type {\n",
       "        vertical-align: middle;\n",
       "    }\n",
       "\n",
       "    .dataframe tbody tr th {\n",
       "        vertical-align: top;\n",
       "    }\n",
       "\n",
       "    .dataframe thead th {\n",
       "        text-align: right;\n",
       "    }\n",
       "</style>\n",
       "<table border=\"1\" class=\"dataframe\">\n",
       "  <thead>\n",
       "    <tr style=\"text-align: right;\">\n",
       "      <th></th>\n",
       "      <th>project_language</th>\n",
       "      <th>project_age</th>\n",
       "      <th>quarter</th>\n",
       "      <th>team_size</th>\n",
       "      <th>gh_tenure</th>\n",
       "      <th>leaves_next_q</th>\n",
       "    </tr>\n",
       "  </thead>\n",
       "  <tbody>\n",
       "    <tr>\n",
       "      <th>339</th>\n",
       "      <td>Java</td>\n",
       "      <td>16</td>\n",
       "      <td>17</td>\n",
       "      <td>2</td>\n",
       "      <td>2006</td>\n",
       "      <td>0</td>\n",
       "    </tr>\n",
       "    <tr>\n",
       "      <th>457</th>\n",
       "      <td>Python</td>\n",
       "      <td>23</td>\n",
       "      <td>24</td>\n",
       "      <td>20</td>\n",
       "      <td>2054</td>\n",
       "      <td>0</td>\n",
       "    </tr>\n",
       "  </tbody>\n",
       "</table>\n",
       "</div>"
      ],
      "text/plain": [
       "    project_language  project_age  quarter  team_size  gh_tenure  \\\n",
       "339             Java           16       17          2       2006   \n",
       "457           Python           23       24         20       2054   \n",
       "\n",
       "     leaves_next_q  \n",
       "339              0  \n",
       "457              0  "
      ]
     },
     "execution_count": 120,
     "metadata": {},
     "output_type": "execute_result"
    }
   ],
   "source": [
    "subset_df = (\n",
    " turnover_df\n",
    " .filter(regex='(e$)|(q)')\n",
    " .query(\"gh_tenure >= 1991\")\n",
    ")\n",
    "\n",
    "subset_df.head()"
   ]
  },
  {
   "cell_type": "markdown",
   "id": "17ea9dfc-c564-47ed-ae68-e2276d77b78f",
   "metadata": {},
   "source": [
    "### Mean and Median of user_commits in subset\n",
    "Update filter like this so user_commits is kept"
   ]
  },
  {
   "cell_type": "code",
   "execution_count": 122,
   "id": "6f4c4f07-aa11-47f5-86bd-5b6b8f77beb0",
   "metadata": {},
   "outputs": [
    {
     "data": {
      "text/html": [
       "<div>\n",
       "<style scoped>\n",
       "    .dataframe tbody tr th:only-of-type {\n",
       "        vertical-align: middle;\n",
       "    }\n",
       "\n",
       "    .dataframe tbody tr th {\n",
       "        vertical-align: top;\n",
       "    }\n",
       "\n",
       "    .dataframe thead th {\n",
       "        text-align: right;\n",
       "    }\n",
       "</style>\n",
       "<table border=\"1\" class=\"dataframe\">\n",
       "  <thead>\n",
       "    <tr style=\"text-align: right;\">\n",
       "      <th></th>\n",
       "      <th>user_commits</th>\n",
       "    </tr>\n",
       "  </thead>\n",
       "  <tbody>\n",
       "    <tr>\n",
       "      <th>mean</th>\n",
       "      <td>3.5</td>\n",
       "    </tr>\n",
       "    <tr>\n",
       "      <th>median</th>\n",
       "      <td>3.5</td>\n",
       "    </tr>\n",
       "  </tbody>\n",
       "</table>\n",
       "</div>"
      ],
      "text/plain": [
       "        user_commits\n",
       "mean             3.5\n",
       "median           3.5"
      ]
     },
     "execution_count": 122,
     "metadata": {},
     "output_type": "execute_result"
    }
   ],
   "source": [
    "subset_df = (\n",
    "    turnover_df\n",
    "    .filter(regex='(e$)|(q)|(^user_commits$)')  # include user_commits explicitly\n",
    "    .query(\"gh_tenure >= 1991\")\n",
    ")\n",
    "(\n",
    "    subset_df\n",
    "    .agg({\"user_commits\": [\"mean\", \"median\"]})\n",
    ")"
   ]
  },
  {
   "cell_type": "markdown",
   "id": "bd114f2b-825a-4cc5-bd71-f30696733c2b",
   "metadata": {},
   "source": [
    "### Summary\n",
    "Mean and Median of `user_commits`: Original vs Filtered Subset\n",
    "\n",
    "We used pandas piping to select:\n",
    "\n",
    "- Columns that end in the letter `e` or contain the letter `q`\n",
    "- Rows where `gh_tenure >= 1991`\n",
    "- We also made sure to include `user_commits` manually in our column filter\n",
    "\n",
    "#### 📊 Results:\n",
    "\n",
    "| Statistic     | Full Dataset | Filtered Subset (gh_tenure ≥ 1991) |\n",
    "|---------------|--------------|------------------------------------|\n",
    "| Mean          | 339.37       | 3.50                               |\n",
    "| Median        | 18.00        | 3.50                               |\n",
    "\n",
    "#### 💡 Interpretation:\n",
    "\n",
    "The mean and median of `user_commits` drop significantly in the filtered subset. This suggests that contributors who remained active longer (`gh_tenure >= 1991`) were **less active in terms of commit counts** than the average contributor. This may imply:\n",
    "\n",
    "- A core group of long-term contributors contributed minimally\n",
    "- Or that high-commit contributors had shorter tenures\n",
    "\n",
    "This contrast highlights the importance of exploring both tenure and contribution volume in turnover and participation studies."
   ]
  },
  {
   "cell_type": "markdown",
   "id": "4aaa914e-056f-4676-843a-518f29d8f3a7",
   "metadata": {},
   "source": [
    "### Reference"
   ]
  },
  {
   "cell_type": "markdown",
   "id": "7a9c8273-e687-4cd9-8a7e-68c2d896f113",
   "metadata": {},
   "source": [
    "[ChatGPT_Independent.ipynb](ChatGPT_Independent.ipynb)"
   ]
  }
 ],
 "metadata": {
  "kernelspec": {
   "display_name": "Python [conda env:base] *",
   "language": "python",
   "name": "conda-base-py"
  },
  "language_info": {
   "codemirror_mode": {
    "name": "ipython",
    "version": 3
   },
   "file_extension": ".py",
   "mimetype": "text/x-python",
   "name": "python",
   "nbconvert_exporter": "python",
   "pygments_lexer": "ipython3",
   "version": "3.12.7"
  }
 },
 "nbformat": 4,
 "nbformat_minor": 5
}
